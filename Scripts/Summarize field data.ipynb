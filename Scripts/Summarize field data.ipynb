{
 "cells": [
  {
   "cell_type": "markdown",
   "metadata": {},
   "source": [
    "### Summarize field data"
   ]
  },
  {
   "cell_type": "code",
   "execution_count": 1,
   "metadata": {
    "collapsed": true
   },
   "outputs": [],
   "source": [
    "import sys, os\n",
    "import pandas as pd\n",
    "import numpy as np"
   ]
  },
  {
   "cell_type": "code",
   "execution_count": 2,
   "metadata": {
    "collapsed": true
   },
   "outputs": [],
   "source": [
    "#Read the file\n",
    "theFieldFN = '../Data/BeetleData/AllFieldData.csv'\n",
    "thePinningFN = '../Data/BeetleData/BeetlePinningSummary.csv')\n",
    "outFN = '../Data/BeetleData/BeetleSummary.csv'"
   ]
  },
  {
   "cell_type": "code",
   "execution_count": 3,
   "metadata": {
    "collapsed": true
   },
   "outputs": [],
   "source": [
    "dfField = pd.read_csv(theFN)"
   ]
  },
  {
   "cell_type": "code",
   "execution_count": 12,
   "metadata": {},
   "outputs": [
    {
     "data": {
      "text/html": [
       "<div>\n",
       "<table border=\"1\" class=\"dataframe\">\n",
       "  <thead>\n",
       "    <tr style=\"text-align: right;\">\n",
       "      <th></th>\n",
       "      <th>decimalLongitude</th>\n",
       "      <th>elevation</th>\n",
       "      <th>decimalLatitude</th>\n",
       "      <th>nlcdClass</th>\n",
       "    </tr>\n",
       "    <tr>\n",
       "      <th>plotID</th>\n",
       "      <th></th>\n",
       "      <th></th>\n",
       "      <th></th>\n",
       "      <th></th>\n",
       "    </tr>\n",
       "  </thead>\n",
       "  <tbody>\n",
       "    <tr>\n",
       "      <th>BART_002</th>\n",
       "      <td>-71.272850</td>\n",
       "      <td>550.8</td>\n",
       "      <td>44.035081</td>\n",
       "      <td>deciduousForest</td>\n",
       "    </tr>\n",
       "    <tr>\n",
       "      <th>BART_018</th>\n",
       "      <td>-71.277857</td>\n",
       "      <td>315.5</td>\n",
       "      <td>44.058474</td>\n",
       "      <td>mixedForest</td>\n",
       "    </tr>\n",
       "    <tr>\n",
       "      <th>BART_025</th>\n",
       "      <td>-71.313142</td>\n",
       "      <td>542.8</td>\n",
       "      <td>44.059386</td>\n",
       "      <td>evergreenForest</td>\n",
       "    </tr>\n",
       "    <tr>\n",
       "      <th>BART_028</th>\n",
       "      <td>-71.306532</td>\n",
       "      <td>485.7</td>\n",
       "      <td>44.054075</td>\n",
       "      <td>evergreenForest</td>\n",
       "    </tr>\n",
       "    <tr>\n",
       "      <th>BART_031</th>\n",
       "      <td>-71.305095</td>\n",
       "      <td>414.0</td>\n",
       "      <td>44.055533</td>\n",
       "      <td>evergreenForest</td>\n",
       "    </tr>\n",
       "  </tbody>\n",
       "</table>\n",
       "</div>"
      ],
      "text/plain": [
       "          decimalLongitude  elevation  decimalLatitude        nlcdClass\n",
       "plotID                                                                 \n",
       "BART_002        -71.272850      550.8        44.035081  deciduousForest\n",
       "BART_018        -71.277857      315.5        44.058474      mixedForest\n",
       "BART_025        -71.313142      542.8        44.059386  evergreenForest\n",
       "BART_028        -71.306532      485.7        44.054075  evergreenForest\n",
       "BART_031        -71.305095      414.0        44.055533  evergreenForest"
      ]
     },
     "execution_count": 12,
     "metadata": {},
     "output_type": "execute_result"
    }
   ],
   "source": [
    "#Summarize static plot attributes into a data frame\n",
    "grpPlot = dfField.groupby(by='plotID')\n",
    "dfAttributes = grpPlot.agg({'nlcdClass':'first',\n",
    "                              'decimalLatitude':'mean',\n",
    "                              'decimalLongitude':'mean',\n",
    "                              'elevation':'mean'})\n",
    "dfAttributes.head()"
   ]
  },
  {
   "cell_type": "code",
   "execution_count": 5,
   "metadata": {},
   "outputs": [
    {
     "data": {
      "text/html": [
       "<div>\n",
       "<table border=\"1\" class=\"dataframe\">\n",
       "  <thead>\n",
       "    <tr style=\"text-align: right;\">\n",
       "      <th></th>\n",
       "      <th></th>\n",
       "      <th></th>\n",
       "      <th>daysOfTrapping</th>\n",
       "    </tr>\n",
       "    <tr>\n",
       "      <th>siteID</th>\n",
       "      <th>plotID</th>\n",
       "      <th>setDate</th>\n",
       "      <th></th>\n",
       "    </tr>\n",
       "  </thead>\n",
       "  <tbody>\n",
       "    <tr>\n",
       "      <th rowspan=\"5\" valign=\"top\">BART</th>\n",
       "      <th rowspan=\"5\" valign=\"top\">BART_002</th>\n",
       "      <th>2014-06-26</th>\n",
       "      <td>112</td>\n",
       "    </tr>\n",
       "    <tr>\n",
       "      <th>2014-07-10</th>\n",
       "      <td>112</td>\n",
       "    </tr>\n",
       "    <tr>\n",
       "      <th>2014-07-24</th>\n",
       "      <td>112</td>\n",
       "    </tr>\n",
       "    <tr>\n",
       "      <th>2014-08-07</th>\n",
       "      <td>112</td>\n",
       "    </tr>\n",
       "    <tr>\n",
       "      <th>2014-08-21</th>\n",
       "      <td>112</td>\n",
       "    </tr>\n",
       "  </tbody>\n",
       "</table>\n",
       "</div>"
      ],
      "text/plain": [
       "                            daysOfTrapping\n",
       "siteID plotID   setDate                   \n",
       "BART   BART_002 2014-06-26             112\n",
       "                2014-07-10             112\n",
       "                2014-07-24             112\n",
       "                2014-08-07             112\n",
       "                2014-08-21             112"
      ]
     },
     "execution_count": 5,
     "metadata": {},
     "output_type": "execute_result"
    }
   ],
   "source": [
    "#List all species found at each site/plot/date combination\n",
    "pvtEffort = df.pivot_table(values='daysOfTrapping',\n",
    "                     index=('siteID','plotID','setDate'),\n",
    "                     aggfunc=\"sum\",\n",
    "                     fill_value=0)\n",
    "dfEffort = pd.DataFrame(pvtEffort)\n",
    "dfEffort.head()"
   ]
  },
  {
   "cell_type": "code",
   "execution_count": 14,
   "metadata": {},
   "outputs": [
    {
     "data": {
      "text/html": [
       "<div>\n",
       "<table border=\"1\" class=\"dataframe\">\n",
       "  <thead>\n",
       "    <tr style=\"text-align: right;\">\n",
       "      <th></th>\n",
       "      <th></th>\n",
       "      <th></th>\n",
       "      <th>decimalLongitude</th>\n",
       "      <th>elevation</th>\n",
       "      <th>decimalLatitude</th>\n",
       "      <th>nlcdClass</th>\n",
       "      <th>daysOfTrapping</th>\n",
       "    </tr>\n",
       "    <tr>\n",
       "      <th>siteID</th>\n",
       "      <th>plotID</th>\n",
       "      <th>setDate</th>\n",
       "      <th></th>\n",
       "      <th></th>\n",
       "      <th></th>\n",
       "      <th></th>\n",
       "      <th></th>\n",
       "    </tr>\n",
       "  </thead>\n",
       "  <tbody>\n",
       "    <tr>\n",
       "      <th rowspan=\"5\" valign=\"top\">BART</th>\n",
       "      <th rowspan=\"5\" valign=\"top\">BART_002</th>\n",
       "      <th>2014-06-26</th>\n",
       "      <td>-71.27285</td>\n",
       "      <td>550.8</td>\n",
       "      <td>44.035081</td>\n",
       "      <td>deciduousForest</td>\n",
       "      <td>112</td>\n",
       "    </tr>\n",
       "    <tr>\n",
       "      <th>2014-07-10</th>\n",
       "      <td>-71.27285</td>\n",
       "      <td>550.8</td>\n",
       "      <td>44.035081</td>\n",
       "      <td>deciduousForest</td>\n",
       "      <td>112</td>\n",
       "    </tr>\n",
       "    <tr>\n",
       "      <th>2014-07-24</th>\n",
       "      <td>-71.27285</td>\n",
       "      <td>550.8</td>\n",
       "      <td>44.035081</td>\n",
       "      <td>deciduousForest</td>\n",
       "      <td>112</td>\n",
       "    </tr>\n",
       "    <tr>\n",
       "      <th>2014-08-07</th>\n",
       "      <td>-71.27285</td>\n",
       "      <td>550.8</td>\n",
       "      <td>44.035081</td>\n",
       "      <td>deciduousForest</td>\n",
       "      <td>112</td>\n",
       "    </tr>\n",
       "    <tr>\n",
       "      <th>2014-08-21</th>\n",
       "      <td>-71.27285</td>\n",
       "      <td>550.8</td>\n",
       "      <td>44.035081</td>\n",
       "      <td>deciduousForest</td>\n",
       "      <td>112</td>\n",
       "    </tr>\n",
       "  </tbody>\n",
       "</table>\n",
       "</div>"
      ],
      "text/plain": [
       "                            decimalLongitude  elevation  decimalLatitude  \\\n",
       "siteID plotID   setDate                                                    \n",
       "BART   BART_002 2014-06-26         -71.27285      550.8        44.035081   \n",
       "                2014-07-10         -71.27285      550.8        44.035081   \n",
       "                2014-07-24         -71.27285      550.8        44.035081   \n",
       "                2014-08-07         -71.27285      550.8        44.035081   \n",
       "                2014-08-21         -71.27285      550.8        44.035081   \n",
       "\n",
       "                                  nlcdClass  daysOfTrapping  \n",
       "siteID plotID   setDate                                      \n",
       "BART   BART_002 2014-06-26  deciduousForest             112  \n",
       "                2014-07-10  deciduousForest             112  \n",
       "                2014-07-24  deciduousForest             112  \n",
       "                2014-08-07  deciduousForest             112  \n",
       "                2014-08-21  deciduousForest             112  "
      ]
     },
     "execution_count": 14,
     "metadata": {},
     "output_type": "execute_result"
    }
   ],
   "source": [
    "#Join plot attributes to effort\n",
    "dfAll = pd.merge(dfAttributes,dfEffort,how='right',left_index=True,right_index=True)\n",
    "dfAll.head()"
   ]
  },
  {
   "cell_type": "code",
   "execution_count": null,
   "metadata": {
    "collapsed": true
   },
   "outputs": [],
   "source": [
    "dfAll.to_csv(outFN)"
   ]
  },
  {
   "cell_type": "code",
   "execution_count": null,
   "metadata": {},
   "outputs": [],
   "source": [
    "dfPin = pd.read_csv('../Scratch/BeetlePinningSummary.csv')\n",
    "dfPin.columns"
   ]
  },
  {
   "cell_type": "code",
   "execution_count": null,
   "metadata": {
    "collapsed": true
   },
   "outputs": [],
   "source": [
    "dfBig = pd.merge(dfAll,dfPin,  how='right', right_on=['plotID','collectDate'],left_on=['plotID','setDate'])\n",
    "dfBig.to_csv('../Scratch/AllData.csv',index=False)"
   ]
  }
 ],
 "metadata": {
  "kernelspec": {
   "display_name": "Python 2",
   "language": "python",
   "name": "python2"
  },
  "language_info": {
   "codemirror_mode": {
    "name": "ipython",
    "version": 2
   },
   "file_extension": ".py",
   "mimetype": "text/x-python",
   "name": "python",
   "nbconvert_exporter": "python",
   "pygments_lexer": "ipython2",
   "version": "2.7.12"
  }
 },
 "nbformat": 4,
 "nbformat_minor": 2
}
