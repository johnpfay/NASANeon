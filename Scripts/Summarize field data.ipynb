{
 "cells": [
  {
   "cell_type": "markdown",
   "metadata": {},
   "source": [
    "### Summarize field data"
   ]
  },
  {
   "cell_type": "code",
   "execution_count": 1,
   "metadata": {
    "collapsed": true
   },
   "outputs": [],
   "source": [
    "import sys, os\n",
    "import pandas as pd\n",
    "import numpy as np"
   ]
  },
  {
   "cell_type": "code",
   "execution_count": 2,
   "metadata": {
    "collapsed": true
   },
   "outputs": [],
   "source": [
    "#Read the file\n",
    "theFN = '../scratch/beetle/AllFieldData.csv'\n",
    "outFN = '../scratch/BeetleFieldSummary.csv'\n",
    "df = pd.read_csv(theFN)"
   ]
  },
  {
   "cell_type": "code",
   "execution_count": 3,
   "metadata": {},
   "outputs": [
    {
     "data": {
      "text/plain": [
       "Index([u'uid', u'domainID', u'siteID', u'plotID', u'trapID', u'nlcdClass',\n",
       "       u'decimalLatitude', u'decimalLongitude', u'geodeticDatum',\n",
       "       u'coordinateUncertainty', u'elevation', u'elevationUncertainty',\n",
       "       u'setDate', u'collectDate', u'boutNumber', u'eventID', u'sampleID',\n",
       "       u'daysOfTrapping', u'cupStatus', u'lidStatus', u'fluidLevel',\n",
       "       u'trapReset', u'samplingProtocol', u'recordedBy', u'remarks',\n",
       "       u'missingRecordsPerBoutQF', u'duplicateCollectionEventQF',\n",
       "       u'compareSetCollectDateQF'],\n",
       "      dtype='object')"
      ]
     },
     "execution_count": 3,
     "metadata": {},
     "output_type": "execute_result"
    }
   ],
   "source": [
    "df.columns"
   ]
  },
  {
   "cell_type": "code",
   "execution_count": 4,
   "metadata": {},
   "outputs": [
    {
     "data": {
      "text/html": [
       "<div>\n",
       "<table border=\"1\" class=\"dataframe\">\n",
       "  <thead>\n",
       "    <tr style=\"text-align: right;\">\n",
       "      <th></th>\n",
       "      <th>decimalLongitude</th>\n",
       "      <th>elevation</th>\n",
       "      <th>decimalLatitude</th>\n",
       "      <th>nlcdClass</th>\n",
       "    </tr>\n",
       "    <tr>\n",
       "      <th>plotID</th>\n",
       "      <th></th>\n",
       "      <th></th>\n",
       "      <th></th>\n",
       "      <th></th>\n",
       "    </tr>\n",
       "  </thead>\n",
       "  <tbody>\n",
       "    <tr>\n",
       "      <th>BART_002</th>\n",
       "      <td>-71.272850</td>\n",
       "      <td>550.8</td>\n",
       "      <td>44.035081</td>\n",
       "      <td>deciduousForest</td>\n",
       "    </tr>\n",
       "    <tr>\n",
       "      <th>BART_018</th>\n",
       "      <td>-71.277857</td>\n",
       "      <td>315.5</td>\n",
       "      <td>44.058474</td>\n",
       "      <td>mixedForest</td>\n",
       "    </tr>\n",
       "    <tr>\n",
       "      <th>BART_025</th>\n",
       "      <td>-71.313142</td>\n",
       "      <td>542.8</td>\n",
       "      <td>44.059386</td>\n",
       "      <td>evergreenForest</td>\n",
       "    </tr>\n",
       "    <tr>\n",
       "      <th>BART_028</th>\n",
       "      <td>-71.306532</td>\n",
       "      <td>485.7</td>\n",
       "      <td>44.054075</td>\n",
       "      <td>evergreenForest</td>\n",
       "    </tr>\n",
       "    <tr>\n",
       "      <th>BART_031</th>\n",
       "      <td>-71.305095</td>\n",
       "      <td>414.0</td>\n",
       "      <td>44.055533</td>\n",
       "      <td>evergreenForest</td>\n",
       "    </tr>\n",
       "  </tbody>\n",
       "</table>\n",
       "</div>"
      ],
      "text/plain": [
       "          decimalLongitude  elevation  decimalLatitude        nlcdClass\n",
       "plotID                                                                 \n",
       "BART_002        -71.272850      550.8        44.035081  deciduousForest\n",
       "BART_018        -71.277857      315.5        44.058474      mixedForest\n",
       "BART_025        -71.313142      542.8        44.059386  evergreenForest\n",
       "BART_028        -71.306532      485.7        44.054075  evergreenForest\n",
       "BART_031        -71.305095      414.0        44.055533  evergreenForest"
      ]
     },
     "execution_count": 4,
     "metadata": {},
     "output_type": "execute_result"
    }
   ],
   "source": [
    "#Summarize static plot attributes into a data frame\n",
    "grp = df.groupby(by='plotID')\n",
    "plotAttributes = grp.agg({'nlcdClass':'first',\n",
    "                          'decimalLatitude':'mean',\n",
    "                          'decimalLongitude':'mean',\n",
    "                          'elevation':'mean'\n",
    "                         })\n",
    "plotAttributes.head()"
   ]
  },
  {
   "cell_type": "code",
   "execution_count": 5,
   "metadata": {},
   "outputs": [
    {
     "data": {
      "text/html": [
       "<div>\n",
       "<table border=\"1\" class=\"dataframe\">\n",
       "  <thead>\n",
       "    <tr style=\"text-align: right;\">\n",
       "      <th></th>\n",
       "      <th></th>\n",
       "      <th></th>\n",
       "      <th>daysOfTrapping</th>\n",
       "    </tr>\n",
       "    <tr>\n",
       "      <th>siteID</th>\n",
       "      <th>plotID</th>\n",
       "      <th>setDate</th>\n",
       "      <th></th>\n",
       "    </tr>\n",
       "  </thead>\n",
       "  <tbody>\n",
       "    <tr>\n",
       "      <th rowspan=\"5\" valign=\"top\">BART</th>\n",
       "      <th rowspan=\"5\" valign=\"top\">BART_002</th>\n",
       "      <th>2014-06-26</th>\n",
       "      <td>56</td>\n",
       "    </tr>\n",
       "    <tr>\n",
       "      <th>2014-07-10</th>\n",
       "      <td>56</td>\n",
       "    </tr>\n",
       "    <tr>\n",
       "      <th>2014-07-24</th>\n",
       "      <td>56</td>\n",
       "    </tr>\n",
       "    <tr>\n",
       "      <th>2014-08-07</th>\n",
       "      <td>56</td>\n",
       "    </tr>\n",
       "    <tr>\n",
       "      <th>2014-08-21</th>\n",
       "      <td>56</td>\n",
       "    </tr>\n",
       "  </tbody>\n",
       "</table>\n",
       "</div>"
      ],
      "text/plain": [
       "                            daysOfTrapping\n",
       "siteID plotID   setDate                   \n",
       "BART   BART_002 2014-06-26              56\n",
       "                2014-07-10              56\n",
       "                2014-07-24              56\n",
       "                2014-08-07              56\n",
       "                2014-08-21              56"
      ]
     },
     "execution_count": 5,
     "metadata": {},
     "output_type": "execute_result"
    }
   ],
   "source": [
    "#List all species found at each site/plot/date combination\n",
    "pvtEffort = df.pivot_table(values='daysOfTrapping',\n",
    "                     index=('siteID','plotID','setDate'),\n",
    "                     aggfunc=\"sum\",\n",
    "                     fill_value=0)\n",
    "dfEffort = pd.DataFrame(pvtEffort)\n",
    "dfEffort.head()"
   ]
  },
  {
   "cell_type": "code",
   "execution_count": 6,
   "metadata": {},
   "outputs": [
    {
     "data": {
      "text/plain": [
       "Index([u'plotID', u'decimalLongitude', u'elevation', u'decimalLatitude',\n",
       "       u'nlcdClass'],\n",
       "      dtype='object')"
      ]
     },
     "execution_count": 6,
     "metadata": {},
     "output_type": "execute_result"
    }
   ],
   "source": [
    "#dfEffort['plotID'] = dfEffort.index.levels[1]\n",
    "dfEff = dfEffort.reset_index()\n",
    "dfPlot = plotAttributes.reset_index()\n",
    "dfPlot.columns"
   ]
  },
  {
   "cell_type": "code",
   "execution_count": 7,
   "metadata": {},
   "outputs": [
    {
     "data": {
      "text/html": [
       "<div>\n",
       "<table border=\"1\" class=\"dataframe\">\n",
       "  <thead>\n",
       "    <tr style=\"text-align: right;\">\n",
       "      <th></th>\n",
       "      <th>siteID</th>\n",
       "      <th>plotID</th>\n",
       "      <th>setDate</th>\n",
       "      <th>daysOfTrapping</th>\n",
       "      <th>decimalLongitude</th>\n",
       "      <th>elevation</th>\n",
       "      <th>decimalLatitude</th>\n",
       "      <th>nlcdClass</th>\n",
       "    </tr>\n",
       "  </thead>\n",
       "  <tbody>\n",
       "    <tr>\n",
       "      <th>0</th>\n",
       "      <td>BART</td>\n",
       "      <td>BART_002</td>\n",
       "      <td>2014-06-26</td>\n",
       "      <td>56</td>\n",
       "      <td>-71.27285</td>\n",
       "      <td>550.8</td>\n",
       "      <td>44.035081</td>\n",
       "      <td>deciduousForest</td>\n",
       "    </tr>\n",
       "    <tr>\n",
       "      <th>1</th>\n",
       "      <td>BART</td>\n",
       "      <td>BART_002</td>\n",
       "      <td>2014-07-10</td>\n",
       "      <td>56</td>\n",
       "      <td>-71.27285</td>\n",
       "      <td>550.8</td>\n",
       "      <td>44.035081</td>\n",
       "      <td>deciduousForest</td>\n",
       "    </tr>\n",
       "    <tr>\n",
       "      <th>2</th>\n",
       "      <td>BART</td>\n",
       "      <td>BART_002</td>\n",
       "      <td>2014-07-24</td>\n",
       "      <td>56</td>\n",
       "      <td>-71.27285</td>\n",
       "      <td>550.8</td>\n",
       "      <td>44.035081</td>\n",
       "      <td>deciduousForest</td>\n",
       "    </tr>\n",
       "    <tr>\n",
       "      <th>3</th>\n",
       "      <td>BART</td>\n",
       "      <td>BART_002</td>\n",
       "      <td>2014-08-07</td>\n",
       "      <td>56</td>\n",
       "      <td>-71.27285</td>\n",
       "      <td>550.8</td>\n",
       "      <td>44.035081</td>\n",
       "      <td>deciduousForest</td>\n",
       "    </tr>\n",
       "    <tr>\n",
       "      <th>4</th>\n",
       "      <td>BART</td>\n",
       "      <td>BART_002</td>\n",
       "      <td>2014-08-21</td>\n",
       "      <td>56</td>\n",
       "      <td>-71.27285</td>\n",
       "      <td>550.8</td>\n",
       "      <td>44.035081</td>\n",
       "      <td>deciduousForest</td>\n",
       "    </tr>\n",
       "  </tbody>\n",
       "</table>\n",
       "</div>"
      ],
      "text/plain": [
       "  siteID    plotID     setDate  daysOfTrapping  decimalLongitude  elevation  \\\n",
       "0   BART  BART_002  2014-06-26              56         -71.27285      550.8   \n",
       "1   BART  BART_002  2014-07-10              56         -71.27285      550.8   \n",
       "2   BART  BART_002  2014-07-24              56         -71.27285      550.8   \n",
       "3   BART  BART_002  2014-08-07              56         -71.27285      550.8   \n",
       "4   BART  BART_002  2014-08-21              56         -71.27285      550.8   \n",
       "\n",
       "   decimalLatitude        nlcdClass  \n",
       "0        44.035081  deciduousForest  \n",
       "1        44.035081  deciduousForest  \n",
       "2        44.035081  deciduousForest  \n",
       "3        44.035081  deciduousForest  \n",
       "4        44.035081  deciduousForest  "
      ]
     },
     "execution_count": 7,
     "metadata": {},
     "output_type": "execute_result"
    }
   ],
   "source": [
    "#Join plot attributes to effort\n",
    "dfAll = pd.merge(dfEff,dfPlot,how='left',on='plotID')\n",
    "dfAll.head()"
   ]
  },
  {
   "cell_type": "code",
   "execution_count": 8,
   "metadata": {
    "collapsed": true
   },
   "outputs": [],
   "source": [
    "dfAll.to_csv(outFN)"
   ]
  },
  {
   "cell_type": "code",
   "execution_count": 9,
   "metadata": {},
   "outputs": [
    {
     "data": {
      "text/plain": [
       "Index([u'siteID', u'plotID', u'collectDate', u'Acupalpus partiarius',\n",
       "       u'Agonoleptus conjunctus', u'Agonoleptus thoracicus', u'Agonum cupreum',\n",
       "       u'Agonum placidum', u'Agonum retractum', u'Amara (Amara) sp.',\n",
       "       ...\n",
       "       u'Stenolophus ochropezus', u'Synuchus impunctatus',\n",
       "       u'Tetracha carolina', u'Tetracha virginica',\n",
       "       u'Tetragonoderus intersectus', u'Tetragonoderus laevigatus',\n",
       "       u'Trechus apicalis', u'Trichotichnus autumnalis',\n",
       "       u'Trichotichnus fulgens', u'Trichotichnus vulpeculus'],\n",
       "      dtype='object', length=148)"
      ]
     },
     "execution_count": 9,
     "metadata": {},
     "output_type": "execute_result"
    }
   ],
   "source": [
    "dfPin = pd.read_csv('../Scratch/BeetlePinningSummary.csv')\n",
    "dfPin.columns"
   ]
  },
  {
   "cell_type": "code",
   "execution_count": 10,
   "metadata": {
    "collapsed": true
   },
   "outputs": [],
   "source": [
    "dfBig = pd.merge(dfAll,dfPin,  how='right', right_on=['plotID','collectDate'],left_on=['plotID','setDate'])\n",
    "dfBig.to_csv('../Scratch/AllData.csv',index=False)"
   ]
  }
 ],
 "metadata": {
  "kernelspec": {
   "display_name": "Python 2",
   "language": "python",
   "name": "python2"
  },
  "language_info": {
   "codemirror_mode": {
    "name": "ipython",
    "version": 2
   },
   "file_extension": ".py",
   "mimetype": "text/x-python",
   "name": "python",
   "nbconvert_exporter": "python",
   "pygments_lexer": "ipython2",
   "version": "2.7.12"
  }
 },
 "nbformat": 4,
 "nbformat_minor": 2
}
