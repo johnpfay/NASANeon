{
 "cells": [
  {
   "cell_type": "code",
   "execution_count": 1,
   "metadata": {
    "collapsed": true
   },
   "outputs": [],
   "source": [
    "#Retrive NEON data from specific URL"
   ]
  },
  {
   "cell_type": "code",
   "execution_count": 33,
   "metadata": {},
   "outputs": [],
   "source": [
    "#import modules\n",
    "import sys, os\n",
    "import pandas as pd\n",
    "import numpy as np\n",
    "import urllib, urllib2\n",
    "import json\n",
    "import StringIO"
   ]
  },
  {
   "cell_type": "code",
   "execution_count": 3,
   "metadata": {
    "collapsed": true
   },
   "outputs": [],
   "source": [
    "#Set the url\n",
    "url = u'http://data.neonscience.org:80/api/v0/data/DP1.10022.001/JORN/2015-05'\n",
    "u = ''http://dmz-portal-web-1.ci.neoninternal.org:8080/api/v0/data/DP1.10022.001/JORN/2015-05''"
   ]
  },
  {
   "cell_type": "code",
   "execution_count": 14,
   "metadata": {},
   "outputs": [
    {
     "name": "stdout",
     "output_type": "stream",
     "text": [
      "[u'files', u'productCode', u'siteCode', u'month']\n"
     ]
    }
   ],
   "source": [
    "#Get the repsonse as a json object and get relevant objects\n",
    "response = urllib.urlopen(url)\n",
    "rawData= json.load(response)\n",
    "data = rawData['data']\n",
    "print data.keys()"
   ]
  },
  {
   "cell_type": "code",
   "execution_count": 15,
   "metadata": {
    "collapsed": true
   },
   "outputs": [],
   "source": [
    "site = data['siteCode']\n",
    "month = data['month']\n",
    "files = data['files']"
   ]
  },
  {
   "cell_type": "code",
   "execution_count": 28,
   "metadata": {},
   "outputs": [
    {
     "name": "stdout",
     "output_type": "stream",
     "text": [
      "[u'NEON', u'D14', u'JORN', u'DP1', u'10022', u'001', u'bet_fielddata', u'csv']\n"
     ]
    }
   ],
   "source": [
    "file = files[1]\n",
    "fields = file['name'].split('.')\n",
    "print fields"
   ]
  },
  {
   "cell_type": "code",
   "execution_count": 30,
   "metadata": {},
   "outputs": [
    {
     "name": "stdout",
     "output_type": "stream",
     "text": [
      "NEON.D14.JORN.DP1.10022.001.bet_fielddata.csv\n"
     ]
    }
   ],
   "source": [
    "print file['name']"
   ]
  },
  {
   "cell_type": "code",
   "execution_count": 29,
   "metadata": {},
   "outputs": [
    {
     "name": "stdout",
     "output_type": "stream",
     "text": [
      "http://data.neonscience.org:80/api/v0/data/DP1.10022.001/JORN/2015-05/NEON.D14.JORN.DP1.10022.001.bet_fielddata.csv?package=basic\n"
     ]
    }
   ],
   "source": [
    "file =  files[1]\n",
    "url2 =  file['url']\n",
    "print url2"
   ]
  },
  {
   "cell_type": "code",
   "execution_count": 35,
   "metadata": {},
   "outputs": [],
   "source": [
    "#Get retrieve the CSV file\n",
    "outFN = '../Scratch/Beetle/{}'.format(file['name'])\n",
    "response = urllib.urlopen(url2)\n",
    "with open(outFN,'w') as f:\n",
    "    f.write(response.read())\n"
   ]
  }
 ],
 "metadata": {
  "kernelspec": {
   "display_name": "Python 2",
   "language": "python",
   "name": "python2"
  },
  "language_info": {
   "codemirror_mode": {
    "name": "ipython",
    "version": 2
   },
   "file_extension": ".py",
   "mimetype": "text/x-python",
   "name": "python",
   "nbconvert_exporter": "python",
   "pygments_lexer": "ipython2",
   "version": "2.7.12"
  }
 },
 "nbformat": 4,
 "nbformat_minor": 2
}
