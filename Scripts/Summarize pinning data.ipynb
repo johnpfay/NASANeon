{
 "cells": [
  {
   "cell_type": "markdown",
   "metadata": {},
   "source": [
    "### Summarize pinning data"
   ]
  },
  {
   "cell_type": "code",
   "execution_count": 1,
   "metadata": {
    "collapsed": true
   },
   "outputs": [],
   "source": [
    "import sys, os\n",
    "import pandas as pd"
   ]
  },
  {
   "cell_type": "code",
   "execution_count": 23,
   "metadata": {},
   "outputs": [],
   "source": [
    "#Read the file\n",
    "theFN = '../scratch/beetle/AllPinningData.csv'\n",
    "outFN = '../scratch/BeetlePinningSummary.csv'\n",
    "df = pd.read_csv(theFN,usecols=(range(15)))"
   ]
  },
  {
   "cell_type": "code",
   "execution_count": 36,
   "metadata": {},
   "outputs": [],
   "source": [
    "#List all species found at each site/plot/date combination\n",
    "pvt = df.pivot_table(columns='scientificName',\n",
    "                     values='taxonID',\n",
    "                     index=('siteID','plotID','collectDate'),\n",
    "                     aggfunc=\"count\",\n",
    "                     fill_value=0)\n",
    "pvt.to_csv(outFN)"
   ]
  }
 ],
 "metadata": {
  "kernelspec": {
   "display_name": "Python 2",
   "language": "python",
   "name": "python2"
  },
  "language_info": {
   "codemirror_mode": {
    "name": "ipython",
    "version": 2
   },
   "file_extension": ".py",
   "mimetype": "text/x-python",
   "name": "python",
   "nbconvert_exporter": "python",
   "pygments_lexer": "ipython2",
   "version": "2.7.12"
  }
 },
 "nbformat": 4,
 "nbformat_minor": 2
}
