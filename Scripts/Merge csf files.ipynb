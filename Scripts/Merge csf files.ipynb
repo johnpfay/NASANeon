{
 "cells": [
  {
   "cell_type": "markdown",
   "metadata": {
    "collapsed": true
   },
   "source": [
    "### Merge fielddata and IDandPinning data files\n",
    "The NEON data are distributed as a number of individual date/site files and should be merged into a single file for easy analyis later on. This script merges and then summarizes these two files. \n",
    "\n",
    "This should be run after the getdata.py script which downloads all the data into a single folder."
   ]
  },
  {
   "cell_type": "code",
   "execution_count": 1,
   "metadata": {
    "collapsed": true
   },
   "outputs": [],
   "source": [
    "#Import modules\n",
    "import sys, os, glob\n",
    "import pandas as pd"
   ]
  },
  {
   "cell_type": "code",
   "execution_count": 3,
   "metadata": {},
   "outputs": [],
   "source": [
    "#Get folder name and files (using the glob module)\n",
    "baseDir = '../Scratch/Beetle'\n",
    "\n",
    "fldFiles = glob.glob(baseDir + os.sep + '*fielddata.csv')\n",
    "outFldCSV = baseDir + os.sep + 'AllFieldData.csv'\n",
    "\n",
    "idFiles = glob.glob(baseDir + os.sep + '*IDandpinning.csv')\n",
    "outIdCSV = baseDir + os.sep + 'AllPinningData.csv'"
   ]
  },
  {
   "cell_type": "markdown",
   "metadata": {},
   "source": [
    "-----\n",
    "Merge fielddata.csv files"
   ]
  },
  {
   "cell_type": "code",
   "execution_count": 4,
   "metadata": {
    "collapsed": true
   },
   "outputs": [],
   "source": [
    "#Write the first file to the output csv\n",
    "df = pd.read_csv(fldFiles[0])\n",
    "df.to_csv(outFldCSV, index=False, mode='w')\n",
    "\n",
    "#Loop through the remaining files and append them to the one initialized above\n",
    "for file in fldFiles[1:]:\n",
    "    df = pd.read_csv(file)\n",
    "    df.to_csv(outFldCSV, index=False, header=False, mode='a')"
   ]
  },
  {
   "cell_type": "markdown",
   "metadata": {},
   "source": [
    "-----\n",
    "Merge IDandpinnign.csv files\n",
    " * Use only first 16 columns as others have issues and aren't needed"
   ]
  },
  {
   "cell_type": "code",
   "execution_count": 5,
   "metadata": {},
   "outputs": [],
   "source": [
    "#Merge pinning data, using only first 15 columns \n",
    "df = pd.read_csv(idFiles[0], usecols=range(15))\n",
    "df.to_csv(outIdCSV, index=False, mode='w')\n",
    "for file in idFiles[1:]:\n",
    "    df = pd.read_csv(file, usecols=range(15))\n",
    "    df.to_csv(outIdCSV, index=False, header=False, mode='a')"
   ]
  },
  {
   "cell_type": "markdown",
   "metadata": {},
   "source": [
    "----\n",
    "Summarize IDandpinning tables"
   ]
  },
  {
   "cell_type": "code",
   "execution_count": 6,
   "metadata": {},
   "outputs": [
    {
     "data": {
      "text/plain": [
       "(5999, 15)"
      ]
     },
     "execution_count": 6,
     "metadata": {},
     "output_type": "execute_result"
    }
   ],
   "source": [
    "#Read in all and tally species observations by site, plot, and date \n",
    "df = pd.read_csv(outIdCSV)\n",
    "df.shape"
   ]
  }
 ],
 "metadata": {
  "kernelspec": {
   "display_name": "Python 2",
   "language": "python",
   "name": "python2"
  },
  "language_info": {
   "codemirror_mode": {
    "name": "ipython",
    "version": 2
   },
   "file_extension": ".py",
   "mimetype": "text/x-python",
   "name": "python",
   "nbconvert_exporter": "python",
   "pygments_lexer": "ipython2",
   "version": "2.7.12"
  }
 },
 "nbformat": 4,
 "nbformat_minor": 2
}
