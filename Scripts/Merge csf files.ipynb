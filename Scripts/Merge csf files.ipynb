{
 "cells": [
  {
   "cell_type": "code",
   "execution_count": 1,
   "metadata": {
    "collapsed": true
   },
   "outputs": [],
   "source": [
    "#Merge field data"
   ]
  },
  {
   "cell_type": "code",
   "execution_count": 2,
   "metadata": {
    "collapsed": true
   },
   "outputs": [],
   "source": [
    "#Import\n",
    "import sys, os, glob\n",
    "import csv\n",
    "import pandas as pd"
   ]
  },
  {
   "cell_type": "code",
   "execution_count": 3,
   "metadata": {
    "collapsed": true
   },
   "outputs": [],
   "source": [
    "#Get folder name and files\n",
    "folder = '../Scratch/Beetle'\n",
    "files = glob.glob('../Scratch/Beetle/*fielddata.csv')\n",
    "files = glob.glob('..\\\\Scratch\\\\Beetle\\\\*IDandpinning.csv')\n",
    "outCSV = folder + os.sep + 'AllPinningData.csv'"
   ]
  },
  {
   "cell_type": "code",
   "execution_count": 32,
   "metadata": {},
   "outputs": [
    {
     "data": {
      "text/plain": [
       "Index([u'uid', u'domainID', u'siteID', u'plotID', u'trapID', u'collectDate',\n",
       "       u'processingDate', u'identifiedDate', u'sampleID', u'individualID',\n",
       "       u'specimenSource', u'taxonID', u'scientificName', u'taxonRank',\n",
       "       u'identificationQualifier'],\n",
       "      dtype='object')"
      ]
     },
     "execution_count": 32,
     "metadata": {},
     "output_type": "execute_result"
    }
   ],
   "source": [
    "df = pd.read_csv(files[0],usecols=range(15))\n",
    "df.to_csv(outCSV, index=False,mode='w')\n",
    "df.columns"
   ]
  },
  {
   "cell_type": "code",
   "execution_count": 33,
   "metadata": {},
   "outputs": [],
   "source": [
    "for file in files:\n",
    "    #try:\n",
    "    df = pd.read_csv(file,usecols=range(15))\n",
    "    df.to_csv(outCSV, index=False,header=False,mode='a')\n",
    "    #except:\n",
    "    #    print file"
   ]
  },
  {
   "cell_type": "code",
   "execution_count": 35,
   "metadata": {},
   "outputs": [
    {
     "data": {
      "text/plain": [
       "(5830, 15)"
      ]
     },
     "execution_count": 35,
     "metadata": {},
     "output_type": "execute_result"
    }
   ],
   "source": [
    "#Read in all and tally species observations by site, plot, and date \n",
    "df = pd.read_csv(outCSV)\n",
    "df.shape"
   ]
  }
 ],
 "metadata": {
  "kernelspec": {
   "display_name": "Python 2",
   "language": "python",
   "name": "python2"
  },
  "language_info": {
   "codemirror_mode": {
    "name": "ipython",
    "version": 2
   },
   "file_extension": ".py",
   "mimetype": "text/x-python",
   "name": "python",
   "nbconvert_exporter": "python",
   "pygments_lexer": "ipython2",
   "version": "2.7.12"
  }
 },
 "nbformat": 4,
 "nbformat_minor": 2
}
