{
 "cells": [
  {
   "cell_type": "markdown",
   "metadata": {},
   "source": [
    "#### Neon API explore\n",
    "URL: http://data.neonscience.org/data-api\n",
    "Examples: https://github.com/tquaife/neonApiExamples"
   ]
  },
  {
   "cell_type": "code",
   "execution_count": 51,
   "metadata": {},
   "outputs": [],
   "source": [
    "##To import pycurl\n",
    "#import pip\n",
    "#pip.main(['install','pycurl'])"
   ]
  },
  {
   "cell_type": "code",
   "execution_count": 36,
   "metadata": {
    "collapsed": true
   },
   "outputs": [],
   "source": [
    "import pycurl\n",
    "import json\n",
    "from StringIO import StringIO\n",
    "import pandas as pd\n",
    "import numpy as np"
   ]
  },
  {
   "cell_type": "code",
   "execution_count": 8,
   "metadata": {
    "collapsed": true
   },
   "outputs": [],
   "source": [
    "BASEURL='http://data.neonscience.org/api/v0/'"
   ]
  },
  {
   "cell_type": "code",
   "execution_count": 39,
   "metadata": {
    "collapsed": true
   },
   "outputs": [],
   "source": [
    "buff = StringIO()\n",
    "c = pycurl.Curl()\n",
    "c.setopt(c.URL, BASEURL+'products')\n",
    "c.setopt(c.WRITEDATA, buff)\n",
    "c.perform()\n",
    "c.close()"
   ]
  },
  {
   "cell_type": "code",
   "execution_count": 10,
   "metadata": {
    "collapsed": true
   },
   "outputs": [],
   "source": [
    "body = buff.getvalue()\n",
    "neonProducts = json.loads(body)"
   ]
  },
  {
   "cell_type": "code",
   "execution_count": 53,
   "metadata": {},
   "outputs": [
    {
     "data": {
      "text/plain": [
       "Index([u'keywords', u'productCategory', u'productCode', u'productCodeLong',\n",
       "       u'productCodePresentation', u'productDescription',\n",
       "       u'productHasExpanded', u'productName', u'productScienceTeam',\n",
       "       u'productScienceTeamAbbr', u'productStatus', u'siteCodes', u'specs',\n",
       "       u'themes'],\n",
       "      dtype='object')"
      ]
     },
     "execution_count": 53,
     "metadata": {},
     "output_type": "execute_result"
    }
   ],
   "source": [
    "from pandas.io.json import json_normalize\n",
    "df = json_normalize(neonProducts['data'])\n",
    "df.columns"
   ]
  },
  {
   "cell_type": "code",
   "execution_count": 84,
   "metadata": {},
   "outputs": [
    {
     "data": {
      "text/plain": [
       "(184, 14)"
      ]
     },
     "execution_count": 84,
     "metadata": {},
     "output_type": "execute_result"
    }
   ],
   "source": [
    "df.shape"
   ]
  },
  {
   "cell_type": "code",
   "execution_count": 27,
   "metadata": {},
   "outputs": [
    {
     "data": {
      "text/plain": [
       "[u'productCode',\n",
       " u'productDescription',\n",
       " u'productCodeLong',\n",
       " u'productCategory',\n",
       " u'productName',\n",
       " u'themes',\n",
       " u'productScienceTeam',\n",
       " u'productStatus',\n",
       " u'keywords',\n",
       " u'productCodePresentation',\n",
       " u'productScienceTeamAbbr']"
      ]
     },
     "execution_count": 27,
     "metadata": {},
     "output_type": "execute_result"
    }
   ],
   "source": [
    "#Look at the first product\n",
    "products = neonProducts['data']\n",
    "p = products[0]\n",
    "p.keys()\n",
    "#print 'ET' in p['keywords']"
   ]
  },
  {
   "cell_type": "code",
   "execution_count": 41,
   "metadata": {},
   "outputs": [
    {
     "name": "stdout",
     "output_type": "stream",
     "text": [
      "[u'Organisms, Populations, and Communities']\n",
      "[u'Organisms, Populations, and Communities']\n"
     ]
    }
   ],
   "source": [
    "#Search for a keyword\n",
    "kwd = 'beetles'\n",
    "for product in products: #neonProducts['data']:\n",
    "    #print product['productCode']\n",
    "    if 'keywords' not in product.keys():\n",
    "        #print product.keys()\n",
    "        continue\n",
    "    kwds = product['keywords']\n",
    "    if kwd in kwds:\n",
    "        print product['themes']"
   ]
  }
 ],
 "metadata": {
  "kernelspec": {
   "display_name": "Python 2",
   "language": "python",
   "name": "python2"
  },
  "language_info": {
   "codemirror_mode": {
    "name": "ipython",
    "version": 2
   },
   "file_extension": ".py",
   "mimetype": "text/x-python",
   "name": "python",
   "nbconvert_exporter": "python",
   "pygments_lexer": "ipython2",
   "version": "2.7.12"
  }
 },
 "nbformat": 4,
 "nbformat_minor": 2
}
