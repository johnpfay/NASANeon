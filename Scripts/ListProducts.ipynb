{
 "cells": [
  {
   "cell_type": "markdown",
   "metadata": {},
   "source": [
    "#### Neon API explore\n",
    "URL: http://data.neonscience.org/data-api\n",
    "Examples: https://github.com/tquaife/neonApiExamples"
   ]
  },
  {
   "cell_type": "code",
   "execution_count": null,
   "metadata": {
    "collapsed": true
   },
   "outputs": [],
   "source": [
    "##To import pycurl\n",
    "#import pip\n",
    "#pip.main(['install','pycurl'])\n",
    "#Tutorial on pyCurl: http://www.angryobjects.com/2011/10/15/http-with-python-pycurl-by-example/"
   ]
  },
  {
   "cell_type": "code",
   "execution_count": 1,
   "metadata": {
    "collapsed": true
   },
   "outputs": [],
   "source": [
    "import pycurl\n",
    "import json\n",
    "from StringIO import StringIO\n",
    "import pandas as pd\n",
    "import numpy as np"
   ]
  },
  {
   "cell_type": "code",
   "execution_count": 2,
   "metadata": {
    "collapsed": true
   },
   "outputs": [],
   "source": [
    "BASEURL='http://data.neonscience.org/api/v0/'"
   ]
  },
  {
   "cell_type": "code",
   "execution_count": 3,
   "metadata": {
    "collapsed": true
   },
   "outputs": [],
   "source": [
    "buff = StringIO()\n",
    "c = pycurl.Curl()\n",
    "c.setopt(c.URL, BASEURL+'products')\n",
    "c.setopt(c.WRITEDATA, buff)\n",
    "c.perform()\n",
    "c.close()"
   ]
  },
  {
   "cell_type": "code",
   "execution_count": 4,
   "metadata": {
    "collapsed": true
   },
   "outputs": [],
   "source": [
    "body = buff.getvalue()\n",
    "neonProducts = json.loads(body)"
   ]
  },
  {
   "cell_type": "code",
   "execution_count": 5,
   "metadata": {},
   "outputs": [
    {
     "data": {
      "text/plain": [
       "Index([u'keywords', u'productCategory', u'productCode', u'productCodeLong',\n",
       "       u'productCodePresentation', u'productDescription',\n",
       "       u'productHasExpanded', u'productName', u'productScienceTeam',\n",
       "       u'productScienceTeamAbbr', u'productStatus', u'siteCodes', u'specs',\n",
       "       u'themes'],\n",
       "      dtype='object')"
      ]
     },
     "execution_count": 5,
     "metadata": {},
     "output_type": "execute_result"
    }
   ],
   "source": [
    "from pandas.io.json import json_normalize\n",
    "df = json_normalize(neonProducts['data'])\n",
    "df.columns"
   ]
  },
  {
   "cell_type": "code",
   "execution_count": null,
   "metadata": {},
   "outputs": [],
   "source": [
    "df.shape"
   ]
  },
  {
   "cell_type": "code",
   "execution_count": null,
   "metadata": {},
   "outputs": [],
   "source": [
    "#Look at the first product\n",
    "products = neonProducts['data']\n",
    "p = products[0]\n",
    "p.keys()\n",
    "#print 'ET' in p['keywords']"
   ]
  },
  {
   "cell_type": "code",
   "execution_count": null,
   "metadata": {},
   "outputs": [],
   "source": [
    "#Search for a keyword\n",
    "kwd = 'beetles'\n",
    "for product in products: #neonProducts['data']:\n",
    "    #print product['productCode']\n",
    "    if 'keywords' not in product.keys():\n",
    "        #print product.keys()\n",
    "        continue\n",
    "    kwds = product['keywords']\n",
    "    if kwd in kwds:\n",
    "        print product['themes']"
   ]
  }
 ],
 "metadata": {
  "kernelspec": {
   "display_name": "Python 2",
   "language": "python",
   "name": "python2"
  },
  "language_info": {
   "codemirror_mode": {
    "name": "ipython",
    "version": 2
   },
   "file_extension": ".py",
   "mimetype": "text/x-python",
   "name": "python",
   "nbconvert_exporter": "python",
   "pygments_lexer": "ipython2",
   "version": "2.7.12"
  }
 },
 "nbformat": 4,
 "nbformat_minor": 2
}
