{
 "cells": [
  {
   "cell_type": "code",
   "execution_count": 1,
   "metadata": {
    "collapsed": true
   },
   "outputs": [],
   "source": [
    "#Get NEON product codes"
   ]
  },
  {
   "cell_type": "code",
   "execution_count": 2,
   "metadata": {
    "collapsed": true
   },
   "outputs": [],
   "source": [
    "#Import modules\n",
    "import pycurl\n",
    "import json\n",
    "from StringIO import StringIO\n",
    "import pandas as pd\n",
    "import numpy as np"
   ]
  },
  {
   "cell_type": "code",
   "execution_count": 3,
   "metadata": {
    "collapsed": true
   },
   "outputs": [],
   "source": [
    "#Set the base URL for the API\n",
    "baseURL='http://data.neonscience.org/api/v0/'"
   ]
  },
  {
   "cell_type": "code",
   "execution_count": 93,
   "metadata": {
    "collapsed": true
   },
   "outputs": [],
   "source": [
    "#Retrieve the products listing into the buff object\n",
    "buff = StringIO()\n",
    "c = pycurl.Curl()\n",
    "c.setopt(c.URL, baseURL+'products')\n",
    "c.setopt(c.WRITEDATA, buff)\n",
    "c.perform()\n",
    "c.close()"
   ]
  },
  {
   "cell_type": "code",
   "execution_count": 94,
   "metadata": {
    "collapsed": true
   },
   "outputs": [],
   "source": [
    "#Create a dictionary of objects\n",
    "body = buff.getvalue()\n",
    "neonProducts = json.loads(body)"
   ]
  },
  {
   "cell_type": "code",
   "execution_count": 95,
   "metadata": {},
   "outputs": [
    {
     "data": {
      "text/plain": [
       "Index([u'keywords', u'productCategory', u'productCode', u'productCodeLong',\n",
       "       u'productCodePresentation', u'productDescription',\n",
       "       u'productHasExpanded', u'productName', u'productScienceTeam',\n",
       "       u'productScienceTeamAbbr', u'productStatus', u'siteCodes', u'specs',\n",
       "       u'themes'],\n",
       "      dtype='object')"
      ]
     },
     "execution_count": 95,
     "metadata": {},
     "output_type": "execute_result"
    }
   ],
   "source": [
    "#Convert to dataframe\n",
    "from pandas.io.json import json_normalize\n",
    "df = json_normalize(neonProducts['data'])\n",
    "df.columns"
   ]
  },
  {
   "cell_type": "code",
   "execution_count": 97,
   "metadata": {},
   "outputs": [],
   "source": [
    "#Find beetle data ('beetle' in [keywords] & [productStatus] = 'ACTIVE')\n",
    "beetleDF = df.query((\"productStatus == 'ACTIVE' & productName == 'Ground beetles sampled from pitfall traps'\"))"
   ]
  },
  {
   "cell_type": "code",
   "execution_count": 103,
   "metadata": {},
   "outputs": [],
   "source": [
    "#Loop through each site code and get data URLS\n",
    "siteCodes = beetleData.siteCodes.iloc[0]\n",
    "site = siteCodes[0]\n",
    "urls = site['availableDataUrls']\n",
    "#Loop through each URL \n",
    "url = urls[0]\n",
    "#for site in siteCodes:\n",
    "#    urls = site['availableDataUrls']"
   ]
  },
  {
   "cell_type": "code",
   "execution_count": 91,
   "metadata": {},
   "outputs": [
    {
     "data": {
      "text/plain": [
       "u'http://data.neonscience.org:80/api/v0/data/DP1.10022.001/JORN/2015-05'"
      ]
     },
     "execution_count": 91,
     "metadata": {},
     "output_type": "execute_result"
    }
   ],
   "source": [
    "url"
   ]
  },
  {
   "cell_type": "code",
   "execution_count": 104,
   "metadata": {},
   "outputs": [
    {
     "data": {
      "text/plain": [
       "[{u'availableDataUrls': [u'http://dmz-portal-web-3.ci.neoninternal.org:8080/api/v0/data/DP1.10022.001/JORN/2015-05',\n",
       "   u'http://dmz-portal-web-3.ci.neoninternal.org:8080/api/v0/data/DP1.10022.001/JORN/2015-06',\n",
       "   u'http://dmz-portal-web-3.ci.neoninternal.org:8080/api/v0/data/DP1.10022.001/JORN/2015-07'],\n",
       "  u'availableMonths': [u'2015-05', u'2015-06', u'2015-07'],\n",
       "  u'siteCode': u'JORN'},\n",
       " {u'availableDataUrls': [u'http://dmz-portal-web-3.ci.neoninternal.org:8080/api/v0/data/DP1.10022.001/OSBS/2014-04',\n",
       "   u'http://dmz-portal-web-3.ci.neoninternal.org:8080/api/v0/data/DP1.10022.001/OSBS/2014-05',\n",
       "   u'http://dmz-portal-web-3.ci.neoninternal.org:8080/api/v0/data/DP1.10022.001/OSBS/2014-06',\n",
       "   u'http://dmz-portal-web-3.ci.neoninternal.org:8080/api/v0/data/DP1.10022.001/OSBS/2014-07',\n",
       "   u'http://dmz-portal-web-3.ci.neoninternal.org:8080/api/v0/data/DP1.10022.001/OSBS/2014-08',\n",
       "   u'http://dmz-portal-web-3.ci.neoninternal.org:8080/api/v0/data/DP1.10022.001/OSBS/2014-09'],\n",
       "  u'availableMonths': [u'2014-04',\n",
       "   u'2014-05',\n",
       "   u'2014-06',\n",
       "   u'2014-07',\n",
       "   u'2014-08',\n",
       "   u'2014-09'],\n",
       "  u'siteCode': u'OSBS'},\n",
       " {u'availableDataUrls': [u'http://dmz-portal-web-3.ci.neoninternal.org:8080/api/v0/data/DP1.10022.001/STER/2013-07',\n",
       "   u'http://dmz-portal-web-3.ci.neoninternal.org:8080/api/v0/data/DP1.10022.001/STER/2013-08',\n",
       "   u'http://dmz-portal-web-3.ci.neoninternal.org:8080/api/v0/data/DP1.10022.001/STER/2014-06',\n",
       "   u'http://dmz-portal-web-3.ci.neoninternal.org:8080/api/v0/data/DP1.10022.001/STER/2014-07',\n",
       "   u'http://dmz-portal-web-3.ci.neoninternal.org:8080/api/v0/data/DP1.10022.001/STER/2014-08',\n",
       "   u'http://dmz-portal-web-3.ci.neoninternal.org:8080/api/v0/data/DP1.10022.001/STER/2014-09'],\n",
       "  u'availableMonths': [u'2013-07',\n",
       "   u'2013-08',\n",
       "   u'2014-06',\n",
       "   u'2014-07',\n",
       "   u'2014-08',\n",
       "   u'2014-09'],\n",
       "  u'siteCode': u'STER'},\n",
       " {u'availableDataUrls': [u'http://dmz-portal-web-3.ci.neoninternal.org:8080/api/v0/data/DP1.10022.001/WOOD/2014-06',\n",
       "   u'http://dmz-portal-web-3.ci.neoninternal.org:8080/api/v0/data/DP1.10022.001/WOOD/2014-07',\n",
       "   u'http://dmz-portal-web-3.ci.neoninternal.org:8080/api/v0/data/DP1.10022.001/WOOD/2014-08',\n",
       "   u'http://dmz-portal-web-3.ci.neoninternal.org:8080/api/v0/data/DP1.10022.001/WOOD/2014-09'],\n",
       "  u'availableMonths': [u'2014-06', u'2014-07', u'2014-08', u'2014-09'],\n",
       "  u'siteCode': u'WOOD'},\n",
       " {u'availableDataUrls': [u'http://dmz-portal-web-3.ci.neoninternal.org:8080/api/v0/data/DP1.10022.001/BART/2014-07',\n",
       "   u'http://dmz-portal-web-3.ci.neoninternal.org:8080/api/v0/data/DP1.10022.001/BART/2014-08',\n",
       "   u'http://dmz-portal-web-3.ci.neoninternal.org:8080/api/v0/data/DP1.10022.001/BART/2014-09'],\n",
       "  u'availableMonths': [u'2014-07', u'2014-08', u'2014-09'],\n",
       "  u'siteCode': u'BART'},\n",
       " {u'availableDataUrls': [u'http://dmz-portal-web-3.ci.neoninternal.org:8080/api/v0/data/DP1.10022.001/UNDE/2014-08',\n",
       "   u'http://dmz-portal-web-3.ci.neoninternal.org:8080/api/v0/data/DP1.10022.001/UNDE/2014-09'],\n",
       "  u'availableMonths': [u'2014-08', u'2014-09'],\n",
       "  u'siteCode': u'UNDE'},\n",
       " {u'availableDataUrls': [u'http://dmz-portal-web-3.ci.neoninternal.org:8080/api/v0/data/DP1.10022.001/ORNL/2014-06',\n",
       "   u'http://dmz-portal-web-3.ci.neoninternal.org:8080/api/v0/data/DP1.10022.001/ORNL/2014-07',\n",
       "   u'http://dmz-portal-web-3.ci.neoninternal.org:8080/api/v0/data/DP1.10022.001/ORNL/2014-08',\n",
       "   u'http://dmz-portal-web-3.ci.neoninternal.org:8080/api/v0/data/DP1.10022.001/ORNL/2014-09'],\n",
       "  u'availableMonths': [u'2014-06', u'2014-07', u'2014-08', u'2014-09'],\n",
       "  u'siteCode': u'ORNL'},\n",
       " {u'availableDataUrls': [u'http://dmz-portal-web-3.ci.neoninternal.org:8080/api/v0/data/DP1.10022.001/HARV/2014-05',\n",
       "   u'http://dmz-portal-web-3.ci.neoninternal.org:8080/api/v0/data/DP1.10022.001/HARV/2014-06',\n",
       "   u'http://dmz-portal-web-3.ci.neoninternal.org:8080/api/v0/data/DP1.10022.001/HARV/2014-07',\n",
       "   u'http://dmz-portal-web-3.ci.neoninternal.org:8080/api/v0/data/DP1.10022.001/HARV/2014-08',\n",
       "   u'http://dmz-portal-web-3.ci.neoninternal.org:8080/api/v0/data/DP1.10022.001/HARV/2014-09'],\n",
       "  u'availableMonths': [u'2014-05',\n",
       "   u'2014-06',\n",
       "   u'2014-07',\n",
       "   u'2014-08',\n",
       "   u'2014-09'],\n",
       "  u'siteCode': u'HARV'},\n",
       " {u'availableDataUrls': [u'http://dmz-portal-web-3.ci.neoninternal.org:8080/api/v0/data/DP1.10022.001/OAES/2015-04',\n",
       "   u'http://dmz-portal-web-3.ci.neoninternal.org:8080/api/v0/data/DP1.10022.001/OAES/2015-05',\n",
       "   u'http://dmz-portal-web-3.ci.neoninternal.org:8080/api/v0/data/DP1.10022.001/OAES/2015-06'],\n",
       "  u'availableMonths': [u'2015-04', u'2015-05', u'2015-06'],\n",
       "  u'siteCode': u'OAES'},\n",
       " {u'availableDataUrls': [u'http://dmz-portal-web-3.ci.neoninternal.org:8080/api/v0/data/DP1.10022.001/DSNY/2014-04',\n",
       "   u'http://dmz-portal-web-3.ci.neoninternal.org:8080/api/v0/data/DP1.10022.001/DSNY/2014-05',\n",
       "   u'http://dmz-portal-web-3.ci.neoninternal.org:8080/api/v0/data/DP1.10022.001/DSNY/2014-06',\n",
       "   u'http://dmz-portal-web-3.ci.neoninternal.org:8080/api/v0/data/DP1.10022.001/DSNY/2014-07',\n",
       "   u'http://dmz-portal-web-3.ci.neoninternal.org:8080/api/v0/data/DP1.10022.001/DSNY/2014-08',\n",
       "   u'http://dmz-portal-web-3.ci.neoninternal.org:8080/api/v0/data/DP1.10022.001/DSNY/2014-09'],\n",
       "  u'availableMonths': [u'2014-04',\n",
       "   u'2014-05',\n",
       "   u'2014-06',\n",
       "   u'2014-07',\n",
       "   u'2014-08',\n",
       "   u'2014-09'],\n",
       "  u'siteCode': u'DSNY'},\n",
       " {u'availableDataUrls': [u'http://dmz-portal-web-3.ci.neoninternal.org:8080/api/v0/data/DP1.10022.001/SCBI/2014-06',\n",
       "   u'http://dmz-portal-web-3.ci.neoninternal.org:8080/api/v0/data/DP1.10022.001/SCBI/2014-07',\n",
       "   u'http://dmz-portal-web-3.ci.neoninternal.org:8080/api/v0/data/DP1.10022.001/SCBI/2014-08',\n",
       "   u'http://dmz-portal-web-3.ci.neoninternal.org:8080/api/v0/data/DP1.10022.001/SCBI/2014-09'],\n",
       "  u'availableMonths': [u'2014-06', u'2014-07', u'2014-08', u'2014-09'],\n",
       "  u'siteCode': u'SCBI'},\n",
       " {u'availableDataUrls': [u'http://dmz-portal-web-3.ci.neoninternal.org:8080/api/v0/data/DP1.10022.001/JERC/2014-06',\n",
       "   u'http://dmz-portal-web-3.ci.neoninternal.org:8080/api/v0/data/DP1.10022.001/JERC/2014-07',\n",
       "   u'http://dmz-portal-web-3.ci.neoninternal.org:8080/api/v0/data/DP1.10022.001/JERC/2014-08',\n",
       "   u'http://dmz-portal-web-3.ci.neoninternal.org:8080/api/v0/data/DP1.10022.001/JERC/2014-09'],\n",
       "  u'availableMonths': [u'2014-06', u'2014-07', u'2014-08', u'2014-09'],\n",
       "  u'siteCode': u'JERC'},\n",
       " {u'availableDataUrls': [u'http://dmz-portal-web-3.ci.neoninternal.org:8080/api/v0/data/DP1.10022.001/MOAB/2015-06',\n",
       "   u'http://dmz-portal-web-3.ci.neoninternal.org:8080/api/v0/data/DP1.10022.001/MOAB/2015-07',\n",
       "   u'http://dmz-portal-web-3.ci.neoninternal.org:8080/api/v0/data/DP1.10022.001/MOAB/2015-08'],\n",
       "  u'availableMonths': [u'2015-06', u'2015-07', u'2015-08'],\n",
       "  u'siteCode': u'MOAB'},\n",
       " {u'availableDataUrls': [u'http://dmz-portal-web-3.ci.neoninternal.org:8080/api/v0/data/DP1.10022.001/SERC/2015-05',\n",
       "   u'http://dmz-portal-web-3.ci.neoninternal.org:8080/api/v0/data/DP1.10022.001/SERC/2015-06'],\n",
       "  u'availableMonths': [u'2015-05', u'2015-06'],\n",
       "  u'siteCode': u'SERC'},\n",
       " {u'availableDataUrls': [u'http://dmz-portal-web-3.ci.neoninternal.org:8080/api/v0/data/DP1.10022.001/UKFS/2015-07',\n",
       "   u'http://dmz-portal-web-3.ci.neoninternal.org:8080/api/v0/data/DP1.10022.001/UKFS/2015-08',\n",
       "   u'http://dmz-portal-web-3.ci.neoninternal.org:8080/api/v0/data/DP1.10022.001/UKFS/2015-09'],\n",
       "  u'availableMonths': [u'2015-07', u'2015-08', u'2015-09'],\n",
       "  u'siteCode': u'UKFS'},\n",
       " {u'availableDataUrls': [u'http://dmz-portal-web-3.ci.neoninternal.org:8080/api/v0/data/DP1.10022.001/TALL/2014-06',\n",
       "   u'http://dmz-portal-web-3.ci.neoninternal.org:8080/api/v0/data/DP1.10022.001/TALL/2014-07',\n",
       "   u'http://dmz-portal-web-3.ci.neoninternal.org:8080/api/v0/data/DP1.10022.001/TALL/2014-08',\n",
       "   u'http://dmz-portal-web-3.ci.neoninternal.org:8080/api/v0/data/DP1.10022.001/TALL/2014-09'],\n",
       "  u'availableMonths': [u'2014-06', u'2014-07', u'2014-08', u'2014-09'],\n",
       "  u'siteCode': u'TALL'},\n",
       " {u'availableDataUrls': [u'http://dmz-portal-web-3.ci.neoninternal.org:8080/api/v0/data/DP1.10022.001/CPER/2014-06',\n",
       "   u'http://dmz-portal-web-3.ci.neoninternal.org:8080/api/v0/data/DP1.10022.001/CPER/2014-07',\n",
       "   u'http://dmz-portal-web-3.ci.neoninternal.org:8080/api/v0/data/DP1.10022.001/CPER/2014-08',\n",
       "   u'http://dmz-portal-web-3.ci.neoninternal.org:8080/api/v0/data/DP1.10022.001/CPER/2014-09'],\n",
       "  u'availableMonths': [u'2014-06', u'2014-07', u'2014-08', u'2014-09'],\n",
       "  u'siteCode': u'CPER'},\n",
       " {u'availableDataUrls': [u'http://dmz-portal-web-3.ci.neoninternal.org:8080/api/v0/data/DP1.10022.001/ONAQ/2014-07',\n",
       "   u'http://dmz-portal-web-3.ci.neoninternal.org:8080/api/v0/data/DP1.10022.001/ONAQ/2014-08',\n",
       "   u'http://dmz-portal-web-3.ci.neoninternal.org:8080/api/v0/data/DP1.10022.001/ONAQ/2014-09'],\n",
       "  u'availableMonths': [u'2014-07', u'2014-08', u'2014-09'],\n",
       "  u'siteCode': u'ONAQ'}]"
      ]
     },
     "execution_count": 104,
     "metadata": {},
     "output_type": "execute_result"
    }
   ],
   "source": [
    "siteCodes\n"
   ]
  }
 ],
 "metadata": {
  "kernelspec": {
   "display_name": "Python 2",
   "language": "python",
   "name": "python2"
  },
  "language_info": {
   "codemirror_mode": {
    "name": "ipython",
    "version": 2
   },
   "file_extension": ".py",
   "mimetype": "text/x-python",
   "name": "python",
   "nbconvert_exporter": "python",
   "pygments_lexer": "ipython2",
   "version": "2.7.12"
  }
 },
 "nbformat": 4,
 "nbformat_minor": 2
}
